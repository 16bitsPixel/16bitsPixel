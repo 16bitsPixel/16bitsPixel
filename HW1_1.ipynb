{
  "nbformat": 4,
  "nbformat_minor": 0,
  "metadata": {
    "colab": {
      "provenance": [],
      "authorship_tag": "ABX9TyNVse2ExRx8uRGJ4NcCVKX7",
      "include_colab_link": true
    },
    "kernelspec": {
      "name": "python3",
      "display_name": "Python 3"
    },
    "language_info": {
      "name": "python"
    }
  },
  "cells": [
    {
      "cell_type": "markdown",
      "metadata": {
        "id": "view-in-github",
        "colab_type": "text"
      },
      "source": [
        "<a href=\"https://colab.research.google.com/github/16bitsPixel/16bitsPixel/blob/main/HW1_1.ipynb\" target=\"_parent\"><img src=\"https://colab.research.google.com/assets/colab-badge.svg\" alt=\"Open In Colab\"/></a>"
      ]
    },
    {
      "cell_type": "markdown",
      "source": [
        "Non-generic, non stochastic gradient descent"
      ],
      "metadata": {
        "id": "BbnFdeY7-ISY"
      }
    },
    {
      "cell_type": "code",
      "execution_count": null,
      "metadata": {
        "id": "mJpBgEEZ79Sk"
      },
      "outputs": [],
      "source": [
        "import numpy as np\n",
        "\n",
        "# tanh activation\n",
        "def tanh(x):\n",
        "  return np.tanh(x)\n",
        "\n",
        "def tanh_derivative(x):\n",
        "  return 1 - np.tanh(x)**2\n",
        "\n",
        "# forward prop\n",
        "def forward_pass(x, W1, W2):\n",
        "  z1 = np.dot(W1, x)\n",
        "  a1 = tanh(z1)\n",
        "  z2 = np.dot(W2, a1)\n",
        "  a2 = z2\n",
        "\n",
        "  return a1, a1\n",
        "\n",
        "# back prop\n",
        "def backward_pass(x, y, W1, W2, a1, a2, learning_rate=0.01):\n",
        "  # error, squared error (1/2)(a2 - y)^2 derivative -> a2 - y\n",
        "  error = a2 - y\n",
        "  dW2 = error * a1.T\n",
        "  delta1 = (W2.T * error) * tanh_derivative(np.dot(W1, x))\n",
        "  dW1 = np.outer(delta1, x)\n",
        "\n",
        "  # update weights\n",
        "  W1 -= learning_rate * dW1\n",
        "  W2 -= learning_rate * dW2\n",
        "\n",
        "  return W1, W2, error\n",
        "\n",
        "# train func\n",
        "def train(X, Y, m_hidden = 2, epochs=1000, learning_rate=0.01):\n",
        "  n_inputs = X.shape[1]\n",
        "  W1 = np.random.randn(m_hidden, n_inputs)\n",
        "  W2 = np.random.randn(1, m_hidden)\n",
        "\n",
        "  for epoch in range(epochs):\n",
        "    total_loss = 0\n",
        "    for i in range(X.shape[0]):\n",
        "      x = X[i].reshape(-1, 1)\n",
        "      y = Y[i]\n",
        "      a1, a2 = forward_pass(x, W1, W2)\n",
        "      W1, W2, error = backward_pass(x, y, W1, W2, a1, a2, learning_rate)\n",
        "      total_loss += error**2\n",
        "\n",
        "    if epoch % 100 == 0:\n",
        "      print(f\"Epoch {epoch}, Loss: {total_loss[0]:.4f}\")\n",
        "\n",
        "    return W1, W2\n"
      ]
    },
    {
      "cell_type": "markdown",
      "source": [],
      "metadata": {
        "id": "D4csx4xb-GkT"
      }
    }
  ]
}